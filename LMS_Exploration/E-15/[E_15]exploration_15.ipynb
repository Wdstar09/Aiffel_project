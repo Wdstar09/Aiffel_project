{
  "nbformat": 4,
  "nbformat_minor": 0,
  "metadata": {
    "colab": {
      "name": "[E-15]exploration_15.ipynb",
      "provenance": [],
      "collapsed_sections": [],
      "machine_shape": "hm"
    },
    "kernelspec": {
      "name": "python3",
      "display_name": "Python 3"
    },
    "language_info": {
      "name": "python"
    },
    "accelerator": "TPU",
    "gpuClass": "standard",
    "widgets": {
      "application/vnd.jupyter.widget-state+json": {
        "e049f4ef655247b1aafd83c8b321723a": {
          "model_module": "@jupyter-widgets/controls",
          "model_name": "HBoxModel",
          "model_module_version": "1.5.0",
          "state": {
            "_dom_classes": [],
            "_model_module": "@jupyter-widgets/controls",
            "_model_module_version": "1.5.0",
            "_model_name": "HBoxModel",
            "_view_count": null,
            "_view_module": "@jupyter-widgets/controls",
            "_view_module_version": "1.5.0",
            "_view_name": "HBoxView",
            "box_style": "",
            "children": [
              "IPY_MODEL_ae7ad5e53bc844b481ca9689718bec7d",
              "IPY_MODEL_2e82a7c139584b34b91ecac700c15a58",
              "IPY_MODEL_bc5d49def59d40e280396d8cd9e317b7"
            ],
            "layout": "IPY_MODEL_3b9cdc89370144d9ba6313e52b4a96ba"
          }
        },
        "ae7ad5e53bc844b481ca9689718bec7d": {
          "model_module": "@jupyter-widgets/controls",
          "model_name": "HTMLModel",
          "model_module_version": "1.5.0",
          "state": {
            "_dom_classes": [],
            "_model_module": "@jupyter-widgets/controls",
            "_model_module_version": "1.5.0",
            "_model_name": "HTMLModel",
            "_view_count": null,
            "_view_module": "@jupyter-widgets/controls",
            "_view_module_version": "1.5.0",
            "_view_name": "HTMLView",
            "description": "",
            "description_tooltip": null,
            "layout": "IPY_MODEL_365ab17f622a4c3ca24b70ef015282f3",
            "placeholder": "​",
            "style": "IPY_MODEL_1a685f405f0c4cda90f45c72bc48ab2d",
            "value": "100%"
          }
        },
        "2e82a7c139584b34b91ecac700c15a58": {
          "model_module": "@jupyter-widgets/controls",
          "model_name": "FloatProgressModel",
          "model_module_version": "1.5.0",
          "state": {
            "_dom_classes": [],
            "_model_module": "@jupyter-widgets/controls",
            "_model_module_version": "1.5.0",
            "_model_name": "FloatProgressModel",
            "_view_count": null,
            "_view_module": "@jupyter-widgets/controls",
            "_view_module_version": "1.5.0",
            "_view_name": "ProgressView",
            "bar_style": "success",
            "description": "",
            "description_tooltip": null,
            "layout": "IPY_MODEL_9024d57c4c1d45b79036d4d3a2727909",
            "max": 25,
            "min": 0,
            "orientation": "horizontal",
            "style": "IPY_MODEL_a4d5add2c62e41ecb01debf3183bf384",
            "value": 25
          }
        },
        "bc5d49def59d40e280396d8cd9e317b7": {
          "model_module": "@jupyter-widgets/controls",
          "model_name": "HTMLModel",
          "model_module_version": "1.5.0",
          "state": {
            "_dom_classes": [],
            "_model_module": "@jupyter-widgets/controls",
            "_model_module_version": "1.5.0",
            "_model_name": "HTMLModel",
            "_view_count": null,
            "_view_module": "@jupyter-widgets/controls",
            "_view_module_version": "1.5.0",
            "_view_name": "HTMLView",
            "description": "",
            "description_tooltip": null,
            "layout": "IPY_MODEL_e15ce4d0651644d0bf646f499b55de75",
            "placeholder": "​",
            "style": "IPY_MODEL_d8d88d5c1a564efd88ae50523d9ffdf2",
            "value": " 25/25 [00:12&lt;00:00,  1.93it/s]"
          }
        },
        "3b9cdc89370144d9ba6313e52b4a96ba": {
          "model_module": "@jupyter-widgets/base",
          "model_name": "LayoutModel",
          "model_module_version": "1.2.0",
          "state": {
            "_model_module": "@jupyter-widgets/base",
            "_model_module_version": "1.2.0",
            "_model_name": "LayoutModel",
            "_view_count": null,
            "_view_module": "@jupyter-widgets/base",
            "_view_module_version": "1.2.0",
            "_view_name": "LayoutView",
            "align_content": null,
            "align_items": null,
            "align_self": null,
            "border": null,
            "bottom": null,
            "display": null,
            "flex": null,
            "flex_flow": null,
            "grid_area": null,
            "grid_auto_columns": null,
            "grid_auto_flow": null,
            "grid_auto_rows": null,
            "grid_column": null,
            "grid_gap": null,
            "grid_row": null,
            "grid_template_areas": null,
            "grid_template_columns": null,
            "grid_template_rows": null,
            "height": null,
            "justify_content": null,
            "justify_items": null,
            "left": null,
            "margin": null,
            "max_height": null,
            "max_width": null,
            "min_height": null,
            "min_width": null,
            "object_fit": null,
            "object_position": null,
            "order": null,
            "overflow": null,
            "overflow_x": null,
            "overflow_y": null,
            "padding": null,
            "right": null,
            "top": null,
            "visibility": null,
            "width": null
          }
        },
        "365ab17f622a4c3ca24b70ef015282f3": {
          "model_module": "@jupyter-widgets/base",
          "model_name": "LayoutModel",
          "model_module_version": "1.2.0",
          "state": {
            "_model_module": "@jupyter-widgets/base",
            "_model_module_version": "1.2.0",
            "_model_name": "LayoutModel",
            "_view_count": null,
            "_view_module": "@jupyter-widgets/base",
            "_view_module_version": "1.2.0",
            "_view_name": "LayoutView",
            "align_content": null,
            "align_items": null,
            "align_self": null,
            "border": null,
            "bottom": null,
            "display": null,
            "flex": null,
            "flex_flow": null,
            "grid_area": null,
            "grid_auto_columns": null,
            "grid_auto_flow": null,
            "grid_auto_rows": null,
            "grid_column": null,
            "grid_gap": null,
            "grid_row": null,
            "grid_template_areas": null,
            "grid_template_columns": null,
            "grid_template_rows": null,
            "height": null,
            "justify_content": null,
            "justify_items": null,
            "left": null,
            "margin": null,
            "max_height": null,
            "max_width": null,
            "min_height": null,
            "min_width": null,
            "object_fit": null,
            "object_position": null,
            "order": null,
            "overflow": null,
            "overflow_x": null,
            "overflow_y": null,
            "padding": null,
            "right": null,
            "top": null,
            "visibility": null,
            "width": null
          }
        },
        "1a685f405f0c4cda90f45c72bc48ab2d": {
          "model_module": "@jupyter-widgets/controls",
          "model_name": "DescriptionStyleModel",
          "model_module_version": "1.5.0",
          "state": {
            "_model_module": "@jupyter-widgets/controls",
            "_model_module_version": "1.5.0",
            "_model_name": "DescriptionStyleModel",
            "_view_count": null,
            "_view_module": "@jupyter-widgets/base",
            "_view_module_version": "1.2.0",
            "_view_name": "StyleView",
            "description_width": ""
          }
        },
        "9024d57c4c1d45b79036d4d3a2727909": {
          "model_module": "@jupyter-widgets/base",
          "model_name": "LayoutModel",
          "model_module_version": "1.2.0",
          "state": {
            "_model_module": "@jupyter-widgets/base",
            "_model_module_version": "1.2.0",
            "_model_name": "LayoutModel",
            "_view_count": null,
            "_view_module": "@jupyter-widgets/base",
            "_view_module_version": "1.2.0",
            "_view_name": "LayoutView",
            "align_content": null,
            "align_items": null,
            "align_self": null,
            "border": null,
            "bottom": null,
            "display": null,
            "flex": null,
            "flex_flow": null,
            "grid_area": null,
            "grid_auto_columns": null,
            "grid_auto_flow": null,
            "grid_auto_rows": null,
            "grid_column": null,
            "grid_gap": null,
            "grid_row": null,
            "grid_template_areas": null,
            "grid_template_columns": null,
            "grid_template_rows": null,
            "height": null,
            "justify_content": null,
            "justify_items": null,
            "left": null,
            "margin": null,
            "max_height": null,
            "max_width": null,
            "min_height": null,
            "min_width": null,
            "object_fit": null,
            "object_position": null,
            "order": null,
            "overflow": null,
            "overflow_x": null,
            "overflow_y": null,
            "padding": null,
            "right": null,
            "top": null,
            "visibility": null,
            "width": null
          }
        },
        "a4d5add2c62e41ecb01debf3183bf384": {
          "model_module": "@jupyter-widgets/controls",
          "model_name": "ProgressStyleModel",
          "model_module_version": "1.5.0",
          "state": {
            "_model_module": "@jupyter-widgets/controls",
            "_model_module_version": "1.5.0",
            "_model_name": "ProgressStyleModel",
            "_view_count": null,
            "_view_module": "@jupyter-widgets/base",
            "_view_module_version": "1.2.0",
            "_view_name": "StyleView",
            "bar_color": null,
            "description_width": ""
          }
        },
        "e15ce4d0651644d0bf646f499b55de75": {
          "model_module": "@jupyter-widgets/base",
          "model_name": "LayoutModel",
          "model_module_version": "1.2.0",
          "state": {
            "_model_module": "@jupyter-widgets/base",
            "_model_module_version": "1.2.0",
            "_model_name": "LayoutModel",
            "_view_count": null,
            "_view_module": "@jupyter-widgets/base",
            "_view_module_version": "1.2.0",
            "_view_name": "LayoutView",
            "align_content": null,
            "align_items": null,
            "align_self": null,
            "border": null,
            "bottom": null,
            "display": null,
            "flex": null,
            "flex_flow": null,
            "grid_area": null,
            "grid_auto_columns": null,
            "grid_auto_flow": null,
            "grid_auto_rows": null,
            "grid_column": null,
            "grid_gap": null,
            "grid_row": null,
            "grid_template_areas": null,
            "grid_template_columns": null,
            "grid_template_rows": null,
            "height": null,
            "justify_content": null,
            "justify_items": null,
            "left": null,
            "margin": null,
            "max_height": null,
            "max_width": null,
            "min_height": null,
            "min_width": null,
            "object_fit": null,
            "object_position": null,
            "order": null,
            "overflow": null,
            "overflow_x": null,
            "overflow_y": null,
            "padding": null,
            "right": null,
            "top": null,
            "visibility": null,
            "width": null
          }
        },
        "d8d88d5c1a564efd88ae50523d9ffdf2": {
          "model_module": "@jupyter-widgets/controls",
          "model_name": "DescriptionStyleModel",
          "model_module_version": "1.5.0",
          "state": {
            "_model_module": "@jupyter-widgets/controls",
            "_model_module_version": "1.5.0",
            "_model_name": "DescriptionStyleModel",
            "_view_count": null,
            "_view_module": "@jupyter-widgets/base",
            "_view_module_version": "1.2.0",
            "_view_name": "StyleView",
            "description_width": ""
          }
        }
      }
    }
  },
  "cells": [
    {
      "cell_type": "markdown",
      "source": [
        "# [ EXPLORATION ] 15. 아이유팬이 좋아할 만한 다른 아티스트 찾기\n",
        "\n",
        "✅추천시스템의 기본적인 원리와 구성을 파악하고 Last.fm 데이터 빛 MovieLes 데이터를 통해 간단하고 효과적인 아티스트 추천시스템과 영화 추천시스템을 구현해 본다.\n",
        "\n",
        "---\n",
        "### - 📖목차\n",
        "* ✔️15-9. 프로젝트 - Movielens 영화 추천 실습\n",
        "* ✔️회고 및 결론\n",
        "* ✔️Reference(참고자료)\n",
        "\n",
        "<br>\n",
        "\n"
      ],
      "metadata": {
        "id": "nbkCP6rYCTY5"
      }
    },
    {
      "cell_type": "markdown",
      "source": [
        "## ✔️15-9. 프로젝트 - Movielens 영화 추천 실습\n",
        "---\n",
        "### 1) 데이터 준비와 전처리"
      ],
      "metadata": {
        "id": "07tYW8eMCpHz"
      }
    },
    {
      "cell_type": "code",
      "execution_count": null,
      "metadata": {
        "id": "FFdYpDfrsCsl"
      },
      "outputs": [],
      "source": [
        "# 모듈 로드\n",
        "import os\n",
        "import pandas as pd\n",
        "import numpy as np\n",
        "from scipy.sparse import csr_matrix\n",
        "from implicit.als import AlternatingLeastSquares\n",
        "import os\n",
        "import numpy as np\n",
        "\n",
        "# 경고 무시\n",
        "import warnings\n",
        "warnings.filterwarnings(\"ignore\", category=UserWarning, module='bs4')"
      ]
    },
    {
      "cell_type": "code",
      "source": [
        "%%capture\n",
        "!pip install implicit"
      ],
      "metadata": {
        "id": "nmPPMDsCsPZV"
      },
      "execution_count": null,
      "outputs": []
    },
    {
      "cell_type": "code",
      "source": [
        "# 데이터 불러오기\n",
        "from google.colab import drive\n",
        "drive.mount('/content/gdrive')"
      ],
      "metadata": {
        "colab": {
          "base_uri": "https://localhost:8080/"
        },
        "id": "y7ZMbiydtlCA",
        "outputId": "401dc3da-d29b-4fe9-cdc5-c5e6b37c3fa3"
      },
      "execution_count": null,
      "outputs": [
        {
          "output_type": "stream",
          "name": "stdout",
          "text": [
            "Mounted at /content/gdrive\n"
          ]
        }
      ]
    },
    {
      "cell_type": "code",
      "source": [
        "!ls '/content/gdrive/MyDrive/aiffel/ex_15/data'"
      ],
      "metadata": {
        "colab": {
          "base_uri": "https://localhost:8080/"
        },
        "id": "yWGTE8gjtplc",
        "outputId": "d4d08c24-eee8-4219-eefa-218df349db4f"
      },
      "execution_count": null,
      "outputs": [
        {
          "output_type": "stream",
          "name": "stdout",
          "text": [
            "movies.dat  ratings.dat  README  users.dat\n"
          ]
        }
      ]
    },
    {
      "cell_type": "code",
      "source": [
        "# 데이터 확인\n",
        "\n",
        "rating_file_path= '/content/gdrive/MyDrive/aiffel/ex_15/data/ratings.dat'\n",
        "ratings_cols = ['user_id', 'movie_id', 'ratings', 'timestamp']\n",
        "ratings = pd.read_csv(rating_file_path, sep='::', names=ratings_cols, engine='python', encoding = \"ISO-8859-1\")\n",
        "orginal_data_size = len(ratings)\n",
        "ratings.head()"
      ],
      "metadata": {
        "colab": {
          "base_uri": "https://localhost:8080/",
          "height": 206
        },
        "id": "M_O5Q4RgtrB1",
        "outputId": "11e2a641-1dcb-4e6b-c0c1-3bd9d9fe2b11"
      },
      "execution_count": null,
      "outputs": [
        {
          "output_type": "execute_result",
          "data": {
            "text/plain": [
              "   user_id  movie_id  ratings  timestamp\n",
              "0        1      1193        5  978300760\n",
              "1        1       661        3  978302109\n",
              "2        1       914        3  978301968\n",
              "3        1      3408        4  978300275\n",
              "4        1      2355        5  978824291"
            ],
            "text/html": [
              "\n",
              "  <div id=\"df-8b875227-5c87-4bac-abea-99e3f18d21b3\">\n",
              "    <div class=\"colab-df-container\">\n",
              "      <div>\n",
              "<style scoped>\n",
              "    .dataframe tbody tr th:only-of-type {\n",
              "        vertical-align: middle;\n",
              "    }\n",
              "\n",
              "    .dataframe tbody tr th {\n",
              "        vertical-align: top;\n",
              "    }\n",
              "\n",
              "    .dataframe thead th {\n",
              "        text-align: right;\n",
              "    }\n",
              "</style>\n",
              "<table border=\"1\" class=\"dataframe\">\n",
              "  <thead>\n",
              "    <tr style=\"text-align: right;\">\n",
              "      <th></th>\n",
              "      <th>user_id</th>\n",
              "      <th>movie_id</th>\n",
              "      <th>ratings</th>\n",
              "      <th>timestamp</th>\n",
              "    </tr>\n",
              "  </thead>\n",
              "  <tbody>\n",
              "    <tr>\n",
              "      <th>0</th>\n",
              "      <td>1</td>\n",
              "      <td>1193</td>\n",
              "      <td>5</td>\n",
              "      <td>978300760</td>\n",
              "    </tr>\n",
              "    <tr>\n",
              "      <th>1</th>\n",
              "      <td>1</td>\n",
              "      <td>661</td>\n",
              "      <td>3</td>\n",
              "      <td>978302109</td>\n",
              "    </tr>\n",
              "    <tr>\n",
              "      <th>2</th>\n",
              "      <td>1</td>\n",
              "      <td>914</td>\n",
              "      <td>3</td>\n",
              "      <td>978301968</td>\n",
              "    </tr>\n",
              "    <tr>\n",
              "      <th>3</th>\n",
              "      <td>1</td>\n",
              "      <td>3408</td>\n",
              "      <td>4</td>\n",
              "      <td>978300275</td>\n",
              "    </tr>\n",
              "    <tr>\n",
              "      <th>4</th>\n",
              "      <td>1</td>\n",
              "      <td>2355</td>\n",
              "      <td>5</td>\n",
              "      <td>978824291</td>\n",
              "    </tr>\n",
              "  </tbody>\n",
              "</table>\n",
              "</div>\n",
              "      <button class=\"colab-df-convert\" onclick=\"convertToInteractive('df-8b875227-5c87-4bac-abea-99e3f18d21b3')\"\n",
              "              title=\"Convert this dataframe to an interactive table.\"\n",
              "              style=\"display:none;\">\n",
              "        \n",
              "  <svg xmlns=\"http://www.w3.org/2000/svg\" height=\"24px\"viewBox=\"0 0 24 24\"\n",
              "       width=\"24px\">\n",
              "    <path d=\"M0 0h24v24H0V0z\" fill=\"none\"/>\n",
              "    <path d=\"M18.56 5.44l.94 2.06.94-2.06 2.06-.94-2.06-.94-.94-2.06-.94 2.06-2.06.94zm-11 1L8.5 8.5l.94-2.06 2.06-.94-2.06-.94L8.5 2.5l-.94 2.06-2.06.94zm10 10l.94 2.06.94-2.06 2.06-.94-2.06-.94-.94-2.06-.94 2.06-2.06.94z\"/><path d=\"M17.41 7.96l-1.37-1.37c-.4-.4-.92-.59-1.43-.59-.52 0-1.04.2-1.43.59L10.3 9.45l-7.72 7.72c-.78.78-.78 2.05 0 2.83L4 21.41c.39.39.9.59 1.41.59.51 0 1.02-.2 1.41-.59l7.78-7.78 2.81-2.81c.8-.78.8-2.07 0-2.86zM5.41 20L4 18.59l7.72-7.72 1.47 1.35L5.41 20z\"/>\n",
              "  </svg>\n",
              "      </button>\n",
              "      \n",
              "  <style>\n",
              "    .colab-df-container {\n",
              "      display:flex;\n",
              "      flex-wrap:wrap;\n",
              "      gap: 12px;\n",
              "    }\n",
              "\n",
              "    .colab-df-convert {\n",
              "      background-color: #E8F0FE;\n",
              "      border: none;\n",
              "      border-radius: 50%;\n",
              "      cursor: pointer;\n",
              "      display: none;\n",
              "      fill: #1967D2;\n",
              "      height: 32px;\n",
              "      padding: 0 0 0 0;\n",
              "      width: 32px;\n",
              "    }\n",
              "\n",
              "    .colab-df-convert:hover {\n",
              "      background-color: #E2EBFA;\n",
              "      box-shadow: 0px 1px 2px rgba(60, 64, 67, 0.3), 0px 1px 3px 1px rgba(60, 64, 67, 0.15);\n",
              "      fill: #174EA6;\n",
              "    }\n",
              "\n",
              "    [theme=dark] .colab-df-convert {\n",
              "      background-color: #3B4455;\n",
              "      fill: #D2E3FC;\n",
              "    }\n",
              "\n",
              "    [theme=dark] .colab-df-convert:hover {\n",
              "      background-color: #434B5C;\n",
              "      box-shadow: 0px 1px 3px 1px rgba(0, 0, 0, 0.15);\n",
              "      filter: drop-shadow(0px 1px 2px rgba(0, 0, 0, 0.3));\n",
              "      fill: #FFFFFF;\n",
              "    }\n",
              "  </style>\n",
              "\n",
              "      <script>\n",
              "        const buttonEl =\n",
              "          document.querySelector('#df-8b875227-5c87-4bac-abea-99e3f18d21b3 button.colab-df-convert');\n",
              "        buttonEl.style.display =\n",
              "          google.colab.kernel.accessAllowed ? 'block' : 'none';\n",
              "\n",
              "        async function convertToInteractive(key) {\n",
              "          const element = document.querySelector('#df-8b875227-5c87-4bac-abea-99e3f18d21b3');\n",
              "          const dataTable =\n",
              "            await google.colab.kernel.invokeFunction('convertToInteractive',\n",
              "                                                     [key], {});\n",
              "          if (!dataTable) return;\n",
              "\n",
              "          const docLinkHtml = 'Like what you see? Visit the ' +\n",
              "            '<a target=\"_blank\" href=https://colab.research.google.com/notebooks/data_table.ipynb>data table notebook</a>'\n",
              "            + ' to learn more about interactive tables.';\n",
              "          element.innerHTML = '';\n",
              "          dataTable['output_type'] = 'display_data';\n",
              "          await google.colab.output.renderOutput(dataTable, element);\n",
              "          const docLink = document.createElement('div');\n",
              "          docLink.innerHTML = docLinkHtml;\n",
              "          element.appendChild(docLink);\n",
              "        }\n",
              "      </script>\n",
              "    </div>\n",
              "  </div>\n",
              "  "
            ]
          },
          "metadata": {},
          "execution_count": 9
        }
      ]
    },
    {
      "cell_type": "code",
      "source": [
        "# 3점 이상만 남기기\n",
        "ratings = ratings[ratings['ratings']>=3]\n",
        "filtered_data_size = len(ratings)\n",
        "\n",
        "print(f'orginal_data_size: {orginal_data_size}, filtered_data_size: {filtered_data_size}')\n",
        "print(f'Ratio of Remaining Data is {filtered_data_size / orginal_data_size:.2%}')"
      ],
      "metadata": {
        "colab": {
          "base_uri": "https://localhost:8080/"
        },
        "id": "PDhEUUkqt2vD",
        "outputId": "eca56b60-37f2-4f0e-ea56-9d574e5f93e3"
      },
      "execution_count": null,
      "outputs": [
        {
          "output_type": "stream",
          "name": "stdout",
          "text": [
            "orginal_data_size: 1000209, filtered_data_size: 836478\n",
            "Ratio of Remaining Data is 83.63%\n"
          ]
        }
      ]
    },
    {
      "cell_type": "code",
      "source": [
        "# ratings 컬럼의 이름을 counts\n",
        "ratings.rename(columns={'ratings':'counts'}, inplace=True)"
      ],
      "metadata": {
        "id": "hJMiZAGWt4qc"
      },
      "execution_count": null,
      "outputs": []
    },
    {
      "cell_type": "code",
      "source": [
        "ratings['counts']"
      ],
      "metadata": {
        "colab": {
          "base_uri": "https://localhost:8080/"
        },
        "id": "J7KYhIGSt5b0",
        "outputId": "fd3c0594-6d57-4141-da21-91d0bdad95fc"
      },
      "execution_count": null,
      "outputs": [
        {
          "output_type": "execute_result",
          "data": {
            "text/plain": [
              "0          5\n",
              "1          3\n",
              "2          3\n",
              "3          4\n",
              "4          5\n",
              "          ..\n",
              "1000203    3\n",
              "1000205    5\n",
              "1000206    5\n",
              "1000207    4\n",
              "1000208    4\n",
              "Name: counts, Length: 836478, dtype: int64"
            ]
          },
          "metadata": {},
          "execution_count": 12
        }
      ]
    },
    {
      "cell_type": "code",
      "source": [
        "# 영화 제목을 보기 위해 메타 데이터를 읽기\n",
        "movie_file_path= '/content/gdrive/MyDrive/aiffel/ex_15/data/movies.dat'\n",
        "cols = ['movie_id', 'title', 'genre'] \n",
        "movies = pd.read_csv(movie_file_path, sep='::', names=cols, engine='python', encoding='ISO-8859-1')\n",
        "movies.head()"
      ],
      "metadata": {
        "colab": {
          "base_uri": "https://localhost:8080/",
          "height": 206
        },
        "id": "Y1eQcu3Gt5Zu",
        "outputId": "daec2b58-b7a5-4314-afe9-fe0c5c5f5db1"
      },
      "execution_count": null,
      "outputs": [
        {
          "output_type": "execute_result",
          "data": {
            "text/plain": [
              "   movie_id                               title                         genre\n",
              "0         1                    Toy Story (1995)   Animation|Children's|Comedy\n",
              "1         2                      Jumanji (1995)  Adventure|Children's|Fantasy\n",
              "2         3             Grumpier Old Men (1995)                Comedy|Romance\n",
              "3         4            Waiting to Exhale (1995)                  Comedy|Drama\n",
              "4         5  Father of the Bride Part II (1995)                        Comedy"
            ],
            "text/html": [
              "\n",
              "  <div id=\"df-a61f6ea5-0523-4d07-b951-a5c513800803\">\n",
              "    <div class=\"colab-df-container\">\n",
              "      <div>\n",
              "<style scoped>\n",
              "    .dataframe tbody tr th:only-of-type {\n",
              "        vertical-align: middle;\n",
              "    }\n",
              "\n",
              "    .dataframe tbody tr th {\n",
              "        vertical-align: top;\n",
              "    }\n",
              "\n",
              "    .dataframe thead th {\n",
              "        text-align: right;\n",
              "    }\n",
              "</style>\n",
              "<table border=\"1\" class=\"dataframe\">\n",
              "  <thead>\n",
              "    <tr style=\"text-align: right;\">\n",
              "      <th></th>\n",
              "      <th>movie_id</th>\n",
              "      <th>title</th>\n",
              "      <th>genre</th>\n",
              "    </tr>\n",
              "  </thead>\n",
              "  <tbody>\n",
              "    <tr>\n",
              "      <th>0</th>\n",
              "      <td>1</td>\n",
              "      <td>Toy Story (1995)</td>\n",
              "      <td>Animation|Children's|Comedy</td>\n",
              "    </tr>\n",
              "    <tr>\n",
              "      <th>1</th>\n",
              "      <td>2</td>\n",
              "      <td>Jumanji (1995)</td>\n",
              "      <td>Adventure|Children's|Fantasy</td>\n",
              "    </tr>\n",
              "    <tr>\n",
              "      <th>2</th>\n",
              "      <td>3</td>\n",
              "      <td>Grumpier Old Men (1995)</td>\n",
              "      <td>Comedy|Romance</td>\n",
              "    </tr>\n",
              "    <tr>\n",
              "      <th>3</th>\n",
              "      <td>4</td>\n",
              "      <td>Waiting to Exhale (1995)</td>\n",
              "      <td>Comedy|Drama</td>\n",
              "    </tr>\n",
              "    <tr>\n",
              "      <th>4</th>\n",
              "      <td>5</td>\n",
              "      <td>Father of the Bride Part II (1995)</td>\n",
              "      <td>Comedy</td>\n",
              "    </tr>\n",
              "  </tbody>\n",
              "</table>\n",
              "</div>\n",
              "      <button class=\"colab-df-convert\" onclick=\"convertToInteractive('df-a61f6ea5-0523-4d07-b951-a5c513800803')\"\n",
              "              title=\"Convert this dataframe to an interactive table.\"\n",
              "              style=\"display:none;\">\n",
              "        \n",
              "  <svg xmlns=\"http://www.w3.org/2000/svg\" height=\"24px\"viewBox=\"0 0 24 24\"\n",
              "       width=\"24px\">\n",
              "    <path d=\"M0 0h24v24H0V0z\" fill=\"none\"/>\n",
              "    <path d=\"M18.56 5.44l.94 2.06.94-2.06 2.06-.94-2.06-.94-.94-2.06-.94 2.06-2.06.94zm-11 1L8.5 8.5l.94-2.06 2.06-.94-2.06-.94L8.5 2.5l-.94 2.06-2.06.94zm10 10l.94 2.06.94-2.06 2.06-.94-2.06-.94-.94-2.06-.94 2.06-2.06.94z\"/><path d=\"M17.41 7.96l-1.37-1.37c-.4-.4-.92-.59-1.43-.59-.52 0-1.04.2-1.43.59L10.3 9.45l-7.72 7.72c-.78.78-.78 2.05 0 2.83L4 21.41c.39.39.9.59 1.41.59.51 0 1.02-.2 1.41-.59l7.78-7.78 2.81-2.81c.8-.78.8-2.07 0-2.86zM5.41 20L4 18.59l7.72-7.72 1.47 1.35L5.41 20z\"/>\n",
              "  </svg>\n",
              "      </button>\n",
              "      \n",
              "  <style>\n",
              "    .colab-df-container {\n",
              "      display:flex;\n",
              "      flex-wrap:wrap;\n",
              "      gap: 12px;\n",
              "    }\n",
              "\n",
              "    .colab-df-convert {\n",
              "      background-color: #E8F0FE;\n",
              "      border: none;\n",
              "      border-radius: 50%;\n",
              "      cursor: pointer;\n",
              "      display: none;\n",
              "      fill: #1967D2;\n",
              "      height: 32px;\n",
              "      padding: 0 0 0 0;\n",
              "      width: 32px;\n",
              "    }\n",
              "\n",
              "    .colab-df-convert:hover {\n",
              "      background-color: #E2EBFA;\n",
              "      box-shadow: 0px 1px 2px rgba(60, 64, 67, 0.3), 0px 1px 3px 1px rgba(60, 64, 67, 0.15);\n",
              "      fill: #174EA6;\n",
              "    }\n",
              "\n",
              "    [theme=dark] .colab-df-convert {\n",
              "      background-color: #3B4455;\n",
              "      fill: #D2E3FC;\n",
              "    }\n",
              "\n",
              "    [theme=dark] .colab-df-convert:hover {\n",
              "      background-color: #434B5C;\n",
              "      box-shadow: 0px 1px 3px 1px rgba(0, 0, 0, 0.15);\n",
              "      filter: drop-shadow(0px 1px 2px rgba(0, 0, 0, 0.3));\n",
              "      fill: #FFFFFF;\n",
              "    }\n",
              "  </style>\n",
              "\n",
              "      <script>\n",
              "        const buttonEl =\n",
              "          document.querySelector('#df-a61f6ea5-0523-4d07-b951-a5c513800803 button.colab-df-convert');\n",
              "        buttonEl.style.display =\n",
              "          google.colab.kernel.accessAllowed ? 'block' : 'none';\n",
              "\n",
              "        async function convertToInteractive(key) {\n",
              "          const element = document.querySelector('#df-a61f6ea5-0523-4d07-b951-a5c513800803');\n",
              "          const dataTable =\n",
              "            await google.colab.kernel.invokeFunction('convertToInteractive',\n",
              "                                                     [key], {});\n",
              "          if (!dataTable) return;\n",
              "\n",
              "          const docLinkHtml = 'Like what you see? Visit the ' +\n",
              "            '<a target=\"_blank\" href=https://colab.research.google.com/notebooks/data_table.ipynb>data table notebook</a>'\n",
              "            + ' to learn more about interactive tables.';\n",
              "          element.innerHTML = '';\n",
              "          dataTable['output_type'] = 'display_data';\n",
              "          await google.colab.output.renderOutput(dataTable, element);\n",
              "          const docLink = document.createElement('div');\n",
              "          docLink.innerHTML = docLinkHtml;\n",
              "          element.appendChild(docLink);\n",
              "        }\n",
              "      </script>\n",
              "    </div>\n",
              "  </div>\n",
              "  "
            ]
          },
          "metadata": {},
          "execution_count": 14
        }
      ]
    },
    {
      "cell_type": "code",
      "source": [
        "df1 = ratings.set_index(\"movie_id\")\n",
        "ratings2 = ratings.join(movies.set_index('movie_id'), on='movie_id')\n",
        "using_cols = ['user_id', 'movie_id', 'counts', 'title']\n",
        "\n",
        "ratings2 = ratings2[using_cols]\n",
        "ratings2.head(10)"
      ],
      "metadata": {
        "colab": {
          "base_uri": "https://localhost:8080/",
          "height": 363
        },
        "id": "8ORlVpaOt5Xu",
        "outputId": "013db0ad-3d6a-4481-b1e2-8f8ff722e9c6"
      },
      "execution_count": null,
      "outputs": [
        {
          "output_type": "execute_result",
          "data": {
            "text/plain": [
              "   user_id  movie_id  counts                                   title\n",
              "0        1      1193       5  One Flew Over the Cuckoo's Nest (1975)\n",
              "1        1       661       3        James and the Giant Peach (1996)\n",
              "2        1       914       3                     My Fair Lady (1964)\n",
              "3        1      3408       4                  Erin Brockovich (2000)\n",
              "4        1      2355       5                    Bug's Life, A (1998)\n",
              "5        1      1197       3              Princess Bride, The (1987)\n",
              "6        1      1287       5                          Ben-Hur (1959)\n",
              "7        1      2804       5               Christmas Story, A (1983)\n",
              "8        1       594       4  Snow White and the Seven Dwarfs (1937)\n",
              "9        1       919       4                Wizard of Oz, The (1939)"
            ],
            "text/html": [
              "\n",
              "  <div id=\"df-688ccc4d-108a-4f79-aa64-cb54ba05cce3\">\n",
              "    <div class=\"colab-df-container\">\n",
              "      <div>\n",
              "<style scoped>\n",
              "    .dataframe tbody tr th:only-of-type {\n",
              "        vertical-align: middle;\n",
              "    }\n",
              "\n",
              "    .dataframe tbody tr th {\n",
              "        vertical-align: top;\n",
              "    }\n",
              "\n",
              "    .dataframe thead th {\n",
              "        text-align: right;\n",
              "    }\n",
              "</style>\n",
              "<table border=\"1\" class=\"dataframe\">\n",
              "  <thead>\n",
              "    <tr style=\"text-align: right;\">\n",
              "      <th></th>\n",
              "      <th>user_id</th>\n",
              "      <th>movie_id</th>\n",
              "      <th>counts</th>\n",
              "      <th>title</th>\n",
              "    </tr>\n",
              "  </thead>\n",
              "  <tbody>\n",
              "    <tr>\n",
              "      <th>0</th>\n",
              "      <td>1</td>\n",
              "      <td>1193</td>\n",
              "      <td>5</td>\n",
              "      <td>One Flew Over the Cuckoo's Nest (1975)</td>\n",
              "    </tr>\n",
              "    <tr>\n",
              "      <th>1</th>\n",
              "      <td>1</td>\n",
              "      <td>661</td>\n",
              "      <td>3</td>\n",
              "      <td>James and the Giant Peach (1996)</td>\n",
              "    </tr>\n",
              "    <tr>\n",
              "      <th>2</th>\n",
              "      <td>1</td>\n",
              "      <td>914</td>\n",
              "      <td>3</td>\n",
              "      <td>My Fair Lady (1964)</td>\n",
              "    </tr>\n",
              "    <tr>\n",
              "      <th>3</th>\n",
              "      <td>1</td>\n",
              "      <td>3408</td>\n",
              "      <td>4</td>\n",
              "      <td>Erin Brockovich (2000)</td>\n",
              "    </tr>\n",
              "    <tr>\n",
              "      <th>4</th>\n",
              "      <td>1</td>\n",
              "      <td>2355</td>\n",
              "      <td>5</td>\n",
              "      <td>Bug's Life, A (1998)</td>\n",
              "    </tr>\n",
              "    <tr>\n",
              "      <th>5</th>\n",
              "      <td>1</td>\n",
              "      <td>1197</td>\n",
              "      <td>3</td>\n",
              "      <td>Princess Bride, The (1987)</td>\n",
              "    </tr>\n",
              "    <tr>\n",
              "      <th>6</th>\n",
              "      <td>1</td>\n",
              "      <td>1287</td>\n",
              "      <td>5</td>\n",
              "      <td>Ben-Hur (1959)</td>\n",
              "    </tr>\n",
              "    <tr>\n",
              "      <th>7</th>\n",
              "      <td>1</td>\n",
              "      <td>2804</td>\n",
              "      <td>5</td>\n",
              "      <td>Christmas Story, A (1983)</td>\n",
              "    </tr>\n",
              "    <tr>\n",
              "      <th>8</th>\n",
              "      <td>1</td>\n",
              "      <td>594</td>\n",
              "      <td>4</td>\n",
              "      <td>Snow White and the Seven Dwarfs (1937)</td>\n",
              "    </tr>\n",
              "    <tr>\n",
              "      <th>9</th>\n",
              "      <td>1</td>\n",
              "      <td>919</td>\n",
              "      <td>4</td>\n",
              "      <td>Wizard of Oz, The (1939)</td>\n",
              "    </tr>\n",
              "  </tbody>\n",
              "</table>\n",
              "</div>\n",
              "      <button class=\"colab-df-convert\" onclick=\"convertToInteractive('df-688ccc4d-108a-4f79-aa64-cb54ba05cce3')\"\n",
              "              title=\"Convert this dataframe to an interactive table.\"\n",
              "              style=\"display:none;\">\n",
              "        \n",
              "  <svg xmlns=\"http://www.w3.org/2000/svg\" height=\"24px\"viewBox=\"0 0 24 24\"\n",
              "       width=\"24px\">\n",
              "    <path d=\"M0 0h24v24H0V0z\" fill=\"none\"/>\n",
              "    <path d=\"M18.56 5.44l.94 2.06.94-2.06 2.06-.94-2.06-.94-.94-2.06-.94 2.06-2.06.94zm-11 1L8.5 8.5l.94-2.06 2.06-.94-2.06-.94L8.5 2.5l-.94 2.06-2.06.94zm10 10l.94 2.06.94-2.06 2.06-.94-2.06-.94-.94-2.06-.94 2.06-2.06.94z\"/><path d=\"M17.41 7.96l-1.37-1.37c-.4-.4-.92-.59-1.43-.59-.52 0-1.04.2-1.43.59L10.3 9.45l-7.72 7.72c-.78.78-.78 2.05 0 2.83L4 21.41c.39.39.9.59 1.41.59.51 0 1.02-.2 1.41-.59l7.78-7.78 2.81-2.81c.8-.78.8-2.07 0-2.86zM5.41 20L4 18.59l7.72-7.72 1.47 1.35L5.41 20z\"/>\n",
              "  </svg>\n",
              "      </button>\n",
              "      \n",
              "  <style>\n",
              "    .colab-df-container {\n",
              "      display:flex;\n",
              "      flex-wrap:wrap;\n",
              "      gap: 12px;\n",
              "    }\n",
              "\n",
              "    .colab-df-convert {\n",
              "      background-color: #E8F0FE;\n",
              "      border: none;\n",
              "      border-radius: 50%;\n",
              "      cursor: pointer;\n",
              "      display: none;\n",
              "      fill: #1967D2;\n",
              "      height: 32px;\n",
              "      padding: 0 0 0 0;\n",
              "      width: 32px;\n",
              "    }\n",
              "\n",
              "    .colab-df-convert:hover {\n",
              "      background-color: #E2EBFA;\n",
              "      box-shadow: 0px 1px 2px rgba(60, 64, 67, 0.3), 0px 1px 3px 1px rgba(60, 64, 67, 0.15);\n",
              "      fill: #174EA6;\n",
              "    }\n",
              "\n",
              "    [theme=dark] .colab-df-convert {\n",
              "      background-color: #3B4455;\n",
              "      fill: #D2E3FC;\n",
              "    }\n",
              "\n",
              "    [theme=dark] .colab-df-convert:hover {\n",
              "      background-color: #434B5C;\n",
              "      box-shadow: 0px 1px 3px 1px rgba(0, 0, 0, 0.15);\n",
              "      filter: drop-shadow(0px 1px 2px rgba(0, 0, 0, 0.3));\n",
              "      fill: #FFFFFF;\n",
              "    }\n",
              "  </style>\n",
              "\n",
              "      <script>\n",
              "        const buttonEl =\n",
              "          document.querySelector('#df-688ccc4d-108a-4f79-aa64-cb54ba05cce3 button.colab-df-convert');\n",
              "        buttonEl.style.display =\n",
              "          google.colab.kernel.accessAllowed ? 'block' : 'none';\n",
              "\n",
              "        async function convertToInteractive(key) {\n",
              "          const element = document.querySelector('#df-688ccc4d-108a-4f79-aa64-cb54ba05cce3');\n",
              "          const dataTable =\n",
              "            await google.colab.kernel.invokeFunction('convertToInteractive',\n",
              "                                                     [key], {});\n",
              "          if (!dataTable) return;\n",
              "\n",
              "          const docLinkHtml = 'Like what you see? Visit the ' +\n",
              "            '<a target=\"_blank\" href=https://colab.research.google.com/notebooks/data_table.ipynb>data table notebook</a>'\n",
              "            + ' to learn more about interactive tables.';\n",
              "          element.innerHTML = '';\n",
              "          dataTable['output_type'] = 'display_data';\n",
              "          await google.colab.output.renderOutput(dataTable, element);\n",
              "          const docLink = document.createElement('div');\n",
              "          docLink.innerHTML = docLinkHtml;\n",
              "          element.appendChild(docLink);\n",
              "        }\n",
              "      </script>\n",
              "    </div>\n",
              "  </div>\n",
              "  "
            ]
          },
          "metadata": {},
          "execution_count": 15
        }
      ]
    },
    {
      "cell_type": "markdown",
      "source": [
        "<br>\n",
        "\n",
        "### 2) 분석해 봅시다.\n",
        "\n",
        "- ratings에 있는 유니크한 영화 개수\n",
        "- ratings에 있는 유니크한 사용자 수\n",
        "- 가장 인기 있는 영화 30개(인기순)"
      ],
      "metadata": {
        "id": "iX2T8XlfDI6K"
      }
    },
    {
      "cell_type": "code",
      "source": [
        "# 영화 개수\n",
        "ratings2['movie_id'].nunique()\n"
      ],
      "metadata": {
        "colab": {
          "base_uri": "https://localhost:8080/"
        },
        "id": "JKzIl29It5V0",
        "outputId": "0f80213a-1a0c-4556-ccc6-a25e696b2a91"
      },
      "execution_count": null,
      "outputs": [
        {
          "output_type": "execute_result",
          "data": {
            "text/plain": [
              "3628"
            ]
          },
          "metadata": {},
          "execution_count": 16
        }
      ]
    },
    {
      "cell_type": "code",
      "source": [
        "# 유저 수\n",
        "ratings2['user_id'].nunique()"
      ],
      "metadata": {
        "colab": {
          "base_uri": "https://localhost:8080/"
        },
        "id": "X0G0_djVt5T3",
        "outputId": "1730fcd2-8c53-41b8-af8d-3e448b7b2611"
      },
      "execution_count": null,
      "outputs": [
        {
          "output_type": "execute_result",
          "data": {
            "text/plain": [
              "6039"
            ]
          },
          "metadata": {},
          "execution_count": 17
        }
      ]
    },
    {
      "cell_type": "code",
      "source": [
        "movie_count = ratings2.groupby('title')['user_id'].count()\n",
        "movie_count.sort_values(ascending=False).head(50)"
      ],
      "metadata": {
        "colab": {
          "base_uri": "https://localhost:8080/"
        },
        "id": "EYoO_LO2t5Rl",
        "outputId": "b5d0d210-09fa-4710-ee83-d596318941ef"
      },
      "execution_count": null,
      "outputs": [
        {
          "output_type": "execute_result",
          "data": {
            "text/plain": [
              "title\n",
              "American Beauty (1999)                                   3211\n",
              "Star Wars: Episode IV - A New Hope (1977)                2910\n",
              "Star Wars: Episode V - The Empire Strikes Back (1980)    2885\n",
              "Star Wars: Episode VI - Return of the Jedi (1983)        2716\n",
              "Saving Private Ryan (1998)                               2561\n",
              "Terminator 2: Judgment Day (1991)                        2509\n",
              "Silence of the Lambs, The (1991)                         2498\n",
              "Raiders of the Lost Ark (1981)                           2473\n",
              "Back to the Future (1985)                                2460\n",
              "Matrix, The (1999)                                       2434\n",
              "Jurassic Park (1993)                                     2413\n",
              "Sixth Sense, The (1999)                                  2385\n",
              "Fargo (1996)                                             2371\n",
              "Braveheart (1995)                                        2314\n",
              "Men in Black (1997)                                      2297\n",
              "Schindler's List (1993)                                  2257\n",
              "Princess Bride, The (1987)                               2252\n",
              "Shakespeare in Love (1998)                               2213\n",
              "L.A. Confidential (1997)                                 2210\n",
              "Shawshank Redemption, The (1994)                         2194\n",
              "Godfather, The (1972)                                    2167\n",
              "Groundhog Day (1993)                                     2121\n",
              "E.T. the Extra-Terrestrial (1982)                        2102\n",
              "Being John Malkovich (1999)                              2066\n",
              "Ghostbusters (1984)                                      2051\n",
              "Pulp Fiction (1994)                                      2030\n",
              "Forrest Gump (1994)                                      2022\n",
              "Terminator, The (1984)                                   2019\n",
              "Toy Story (1995)                                         2000\n",
              "Fugitive, The (1993)                                     1941\n",
              "Alien (1979)                                             1920\n",
              "Gladiator (2000)                                         1798\n",
              "Total Recall (1990)                                      1786\n",
              "Star Wars: Episode I - The Phantom Menace (1999)         1783\n",
              "Usual Suspects, The (1995)                               1744\n",
              "Stand by Me (1986)                                       1728\n",
              "Blade Runner (1982)                                      1722\n",
              "Aliens (1986)                                            1720\n",
              "One Flew Over the Cuckoo's Nest (1975)                   1680\n",
              "Wizard of Oz, The (1939)                                 1650\n",
              "Godfather: Part II, The (1974)                           1624\n",
              "Casablanca (1942)                                        1623\n",
              "Who Framed Roger Rabbit? (1988)                          1605\n",
              "Bug's Life, A (1998)                                     1599\n",
              "Jaws (1975)                                              1598\n",
              "GoodFellas (1990)                                        1595\n",
              "Die Hard (1988)                                          1593\n",
              "Hunt for Red October, The (1990)                         1587\n",
              "Airplane! (1980)                                         1586\n",
              "Babe (1995)                                              1574\n",
              "Name: user_id, dtype: int64"
            ]
          },
          "metadata": {},
          "execution_count": 22
        }
      ]
    },
    {
      "cell_type": "markdown",
      "source": [
        "<br>\n",
        "\n",
        "### 3) 내가 선호하는 영화를 5가지 골라서 ratings에 추가해 줍시다."
      ],
      "metadata": {
        "id": "egL7Ym88DMqW"
      }
    },
    {
      "cell_type": "code",
      "source": [
        "my_favorite = ['Men in Black (1997)','Matrix, The (1999)','Star Wars: Episode VI - Return of the Jedi (1983)','E.T. the Extra-Terrestrial (1982)','Toy Story (1995)']\n",
        "my_favorite_id = ['2297','2434','2716','2102','2000']\n",
        "\n",
        "# 'zimin'이라는 user_id가 위 아티스트의 노래를 30회씩 들었다고 가정\n",
        "my_movielist = pd.DataFrame({'user_id': ['buyel']*5, 'movie_id' : my_favorite_id,'counts':[5]*5, 'title': my_favorite})\n",
        "\n",
        "if not ratings2.isin({'user_id':['buyel']})['user_id'].any():  # user_id에 'zimin'이라는 데이터가 없을 시\n",
        "    ratings2 = ratings2.append(my_movielist)                           # 위에 임의로 만든 my_favorite 데이터 추가\n",
        "\n",
        "ratings2.tail(10)    "
      ],
      "metadata": {
        "colab": {
          "base_uri": "https://localhost:8080/",
          "height": 363
        },
        "id": "-MmNN5HGt5PM",
        "outputId": "45f0f144-eda2-4dcf-815a-aafb1e3df469"
      },
      "execution_count": null,
      "outputs": [
        {
          "output_type": "execute_result",
          "data": {
            "text/plain": [
              "  user_id movie_id  counts                                              title\n",
              "0    6039     2297       5                                                175\n",
              "1    6039     2434       5                                                124\n",
              "2    6039     2716       5                                                 64\n",
              "3    6039     2102       5                                                 26\n",
              "4    6039     2000       5                                                 40\n",
              "0   buyel     2297       5                                Men in Black (1997)\n",
              "1   buyel     2434       5                                 Matrix, The (1999)\n",
              "2   buyel     2716       5  Star Wars: Episode VI - Return of the Jedi (1983)\n",
              "3   buyel     2102       5                  E.T. the Extra-Terrestrial (1982)\n",
              "4   buyel     2000       5                                   Toy Story (1995)"
            ],
            "text/html": [
              "\n",
              "  <div id=\"df-29a93b91-8a03-4c47-9e8f-bbb4d8bf4e51\">\n",
              "    <div class=\"colab-df-container\">\n",
              "      <div>\n",
              "<style scoped>\n",
              "    .dataframe tbody tr th:only-of-type {\n",
              "        vertical-align: middle;\n",
              "    }\n",
              "\n",
              "    .dataframe tbody tr th {\n",
              "        vertical-align: top;\n",
              "    }\n",
              "\n",
              "    .dataframe thead th {\n",
              "        text-align: right;\n",
              "    }\n",
              "</style>\n",
              "<table border=\"1\" class=\"dataframe\">\n",
              "  <thead>\n",
              "    <tr style=\"text-align: right;\">\n",
              "      <th></th>\n",
              "      <th>user_id</th>\n",
              "      <th>movie_id</th>\n",
              "      <th>counts</th>\n",
              "      <th>title</th>\n",
              "    </tr>\n",
              "  </thead>\n",
              "  <tbody>\n",
              "    <tr>\n",
              "      <th>0</th>\n",
              "      <td>6039</td>\n",
              "      <td>2297</td>\n",
              "      <td>5</td>\n",
              "      <td>175</td>\n",
              "    </tr>\n",
              "    <tr>\n",
              "      <th>1</th>\n",
              "      <td>6039</td>\n",
              "      <td>2434</td>\n",
              "      <td>5</td>\n",
              "      <td>124</td>\n",
              "    </tr>\n",
              "    <tr>\n",
              "      <th>2</th>\n",
              "      <td>6039</td>\n",
              "      <td>2716</td>\n",
              "      <td>5</td>\n",
              "      <td>64</td>\n",
              "    </tr>\n",
              "    <tr>\n",
              "      <th>3</th>\n",
              "      <td>6039</td>\n",
              "      <td>2102</td>\n",
              "      <td>5</td>\n",
              "      <td>26</td>\n",
              "    </tr>\n",
              "    <tr>\n",
              "      <th>4</th>\n",
              "      <td>6039</td>\n",
              "      <td>2000</td>\n",
              "      <td>5</td>\n",
              "      <td>40</td>\n",
              "    </tr>\n",
              "    <tr>\n",
              "      <th>0</th>\n",
              "      <td>buyel</td>\n",
              "      <td>2297</td>\n",
              "      <td>5</td>\n",
              "      <td>Men in Black (1997)</td>\n",
              "    </tr>\n",
              "    <tr>\n",
              "      <th>1</th>\n",
              "      <td>buyel</td>\n",
              "      <td>2434</td>\n",
              "      <td>5</td>\n",
              "      <td>Matrix, The (1999)</td>\n",
              "    </tr>\n",
              "    <tr>\n",
              "      <th>2</th>\n",
              "      <td>buyel</td>\n",
              "      <td>2716</td>\n",
              "      <td>5</td>\n",
              "      <td>Star Wars: Episode VI - Return of the Jedi (1983)</td>\n",
              "    </tr>\n",
              "    <tr>\n",
              "      <th>3</th>\n",
              "      <td>buyel</td>\n",
              "      <td>2102</td>\n",
              "      <td>5</td>\n",
              "      <td>E.T. the Extra-Terrestrial (1982)</td>\n",
              "    </tr>\n",
              "    <tr>\n",
              "      <th>4</th>\n",
              "      <td>buyel</td>\n",
              "      <td>2000</td>\n",
              "      <td>5</td>\n",
              "      <td>Toy Story (1995)</td>\n",
              "    </tr>\n",
              "  </tbody>\n",
              "</table>\n",
              "</div>\n",
              "      <button class=\"colab-df-convert\" onclick=\"convertToInteractive('df-29a93b91-8a03-4c47-9e8f-bbb4d8bf4e51')\"\n",
              "              title=\"Convert this dataframe to an interactive table.\"\n",
              "              style=\"display:none;\">\n",
              "        \n",
              "  <svg xmlns=\"http://www.w3.org/2000/svg\" height=\"24px\"viewBox=\"0 0 24 24\"\n",
              "       width=\"24px\">\n",
              "    <path d=\"M0 0h24v24H0V0z\" fill=\"none\"/>\n",
              "    <path d=\"M18.56 5.44l.94 2.06.94-2.06 2.06-.94-2.06-.94-.94-2.06-.94 2.06-2.06.94zm-11 1L8.5 8.5l.94-2.06 2.06-.94-2.06-.94L8.5 2.5l-.94 2.06-2.06.94zm10 10l.94 2.06.94-2.06 2.06-.94-2.06-.94-.94-2.06-.94 2.06-2.06.94z\"/><path d=\"M17.41 7.96l-1.37-1.37c-.4-.4-.92-.59-1.43-.59-.52 0-1.04.2-1.43.59L10.3 9.45l-7.72 7.72c-.78.78-.78 2.05 0 2.83L4 21.41c.39.39.9.59 1.41.59.51 0 1.02-.2 1.41-.59l7.78-7.78 2.81-2.81c.8-.78.8-2.07 0-2.86zM5.41 20L4 18.59l7.72-7.72 1.47 1.35L5.41 20z\"/>\n",
              "  </svg>\n",
              "      </button>\n",
              "      \n",
              "  <style>\n",
              "    .colab-df-container {\n",
              "      display:flex;\n",
              "      flex-wrap:wrap;\n",
              "      gap: 12px;\n",
              "    }\n",
              "\n",
              "    .colab-df-convert {\n",
              "      background-color: #E8F0FE;\n",
              "      border: none;\n",
              "      border-radius: 50%;\n",
              "      cursor: pointer;\n",
              "      display: none;\n",
              "      fill: #1967D2;\n",
              "      height: 32px;\n",
              "      padding: 0 0 0 0;\n",
              "      width: 32px;\n",
              "    }\n",
              "\n",
              "    .colab-df-convert:hover {\n",
              "      background-color: #E2EBFA;\n",
              "      box-shadow: 0px 1px 2px rgba(60, 64, 67, 0.3), 0px 1px 3px 1px rgba(60, 64, 67, 0.15);\n",
              "      fill: #174EA6;\n",
              "    }\n",
              "\n",
              "    [theme=dark] .colab-df-convert {\n",
              "      background-color: #3B4455;\n",
              "      fill: #D2E3FC;\n",
              "    }\n",
              "\n",
              "    [theme=dark] .colab-df-convert:hover {\n",
              "      background-color: #434B5C;\n",
              "      box-shadow: 0px 1px 3px 1px rgba(0, 0, 0, 0.15);\n",
              "      filter: drop-shadow(0px 1px 2px rgba(0, 0, 0, 0.3));\n",
              "      fill: #FFFFFF;\n",
              "    }\n",
              "  </style>\n",
              "\n",
              "      <script>\n",
              "        const buttonEl =\n",
              "          document.querySelector('#df-29a93b91-8a03-4c47-9e8f-bbb4d8bf4e51 button.colab-df-convert');\n",
              "        buttonEl.style.display =\n",
              "          google.colab.kernel.accessAllowed ? 'block' : 'none';\n",
              "\n",
              "        async function convertToInteractive(key) {\n",
              "          const element = document.querySelector('#df-29a93b91-8a03-4c47-9e8f-bbb4d8bf4e51');\n",
              "          const dataTable =\n",
              "            await google.colab.kernel.invokeFunction('convertToInteractive',\n",
              "                                                     [key], {});\n",
              "          if (!dataTable) return;\n",
              "\n",
              "          const docLinkHtml = 'Like what you see? Visit the ' +\n",
              "            '<a target=\"_blank\" href=https://colab.research.google.com/notebooks/data_table.ipynb>data table notebook</a>'\n",
              "            + ' to learn more about interactive tables.';\n",
              "          element.innerHTML = '';\n",
              "          dataTable['output_type'] = 'display_data';\n",
              "          await google.colab.output.renderOutput(dataTable, element);\n",
              "          const docLink = document.createElement('div');\n",
              "          docLink.innerHTML = docLinkHtml;\n",
              "          element.appendChild(docLink);\n",
              "        }\n",
              "      </script>\n",
              "    </div>\n",
              "  </div>\n",
              "  "
            ]
          },
          "metadata": {},
          "execution_count": 48
        }
      ]
    },
    {
      "cell_type": "code",
      "source": [
        "# 고유한 유저, 아티스트를 찾아내는 코드\n",
        "user_unique = ratings2['user_id'].unique()\n",
        "movie_unique = ratings2['title'].unique()\n",
        "\n",
        "# 유저, 아티스트 indexing 하는 코드 idx는 index의 약자이다.\n",
        "user_to_idx = {v:k for k,v in enumerate(user_unique)}\n",
        "movie_to_idx = {v:k for k,v in enumerate(movie_unique)}"
      ],
      "metadata": {
        "id": "WGPmNdqMusqO"
      },
      "execution_count": null,
      "outputs": []
    },
    {
      "cell_type": "code",
      "source": [
        "# 인덱싱이 잘 되었는지 확인. \n",
        "print(user_to_idx['buyel'])\n",
        "print(movie_to_idx['Men in Black (1997)'])"
      ],
      "metadata": {
        "colab": {
          "base_uri": "https://localhost:8080/"
        },
        "id": "aFwlIjVVutmv",
        "outputId": "222fa51b-4bc9-4483-880b-2148c9ecdbf0"
      },
      "execution_count": null,
      "outputs": [
        {
          "output_type": "stream",
          "name": "stdout",
          "text": [
            "6040\n",
            "3628\n"
          ]
        }
      ]
    },
    {
      "cell_type": "code",
      "source": [
        "# indexing을 통해 데이터 컬럼 내 값을 바꾸는 코드\n",
        "# dictionary 자료형의 get 함수는 https://wikidocs.net/16 에서 참고\n",
        "\n",
        "# user_to_idx.get을 통해 user_id 컬럼의 모든 값을 인덱싱한 Series를 구해 보자\n",
        "# 혹시 정상적으로 인덱싱되지 않은 row가 있다면 인덱스가 NaN이 될 테니 dropna()로 제거\n",
        "temp_user_data = ratings2['user_id'].map(user_to_idx.get).dropna()\n",
        "if len(temp_user_data) == len(ratings2):   # 모든 row가 정상적으로 인덱싱되었다면\n",
        "    print('user_id column indexing OK!!')\n",
        "    ratings2['user_id'] = temp_user_data   # data['user_id']을 인덱싱된 Series로 교체\n",
        "else:\n",
        "    print('user_id column indexing Fail!!')\n",
        "\n",
        "# movie_to_idx을 통해 title 컬럼도 동일한 방식으로 인덱싱\n",
        "temp_movie_data = ratings2['title'].map(movie_to_idx.get).dropna()\n",
        "if len(temp_movie_data) == len(ratings2):\n",
        "    print('title column indexing OK!!')\n",
        "    ratings2['title'] = temp_movie_data\n",
        "else:\n",
        "    print('title column indexing Fail!!')\n",
        "\n",
        "ratings2"
      ],
      "metadata": {
        "colab": {
          "base_uri": "https://localhost:8080/",
          "height": 460
        },
        "id": "B8yccA3Uuvgw",
        "outputId": "e194dfe0-9b01-43b1-fa50-69a2f6b07c0c"
      },
      "execution_count": null,
      "outputs": [
        {
          "output_type": "stream",
          "name": "stdout",
          "text": [
            "user_id column indexing OK!!\n",
            "title column indexing OK!!\n"
          ]
        },
        {
          "output_type": "execute_result",
          "data": {
            "text/plain": [
              "    user_id movie_id  counts  title\n",
              "0         0     1193       5      0\n",
              "1         0      661       3      1\n",
              "2         0      914       3      2\n",
              "3         0     3408       4      3\n",
              "4         0     2355       5      4\n",
              "..      ...      ...     ...    ...\n",
              "0      6039     2297       5    175\n",
              "1      6039     2434       5    124\n",
              "2      6039     2716       5     64\n",
              "3      6039     2102       5     26\n",
              "4      6039     2000       5     40\n",
              "\n",
              "[836483 rows x 4 columns]"
            ],
            "text/html": [
              "\n",
              "  <div id=\"df-befb0b76-e85c-4e04-949d-03ee465ebecb\">\n",
              "    <div class=\"colab-df-container\">\n",
              "      <div>\n",
              "<style scoped>\n",
              "    .dataframe tbody tr th:only-of-type {\n",
              "        vertical-align: middle;\n",
              "    }\n",
              "\n",
              "    .dataframe tbody tr th {\n",
              "        vertical-align: top;\n",
              "    }\n",
              "\n",
              "    .dataframe thead th {\n",
              "        text-align: right;\n",
              "    }\n",
              "</style>\n",
              "<table border=\"1\" class=\"dataframe\">\n",
              "  <thead>\n",
              "    <tr style=\"text-align: right;\">\n",
              "      <th></th>\n",
              "      <th>user_id</th>\n",
              "      <th>movie_id</th>\n",
              "      <th>counts</th>\n",
              "      <th>title</th>\n",
              "    </tr>\n",
              "  </thead>\n",
              "  <tbody>\n",
              "    <tr>\n",
              "      <th>0</th>\n",
              "      <td>0</td>\n",
              "      <td>1193</td>\n",
              "      <td>5</td>\n",
              "      <td>0</td>\n",
              "    </tr>\n",
              "    <tr>\n",
              "      <th>1</th>\n",
              "      <td>0</td>\n",
              "      <td>661</td>\n",
              "      <td>3</td>\n",
              "      <td>1</td>\n",
              "    </tr>\n",
              "    <tr>\n",
              "      <th>2</th>\n",
              "      <td>0</td>\n",
              "      <td>914</td>\n",
              "      <td>3</td>\n",
              "      <td>2</td>\n",
              "    </tr>\n",
              "    <tr>\n",
              "      <th>3</th>\n",
              "      <td>0</td>\n",
              "      <td>3408</td>\n",
              "      <td>4</td>\n",
              "      <td>3</td>\n",
              "    </tr>\n",
              "    <tr>\n",
              "      <th>4</th>\n",
              "      <td>0</td>\n",
              "      <td>2355</td>\n",
              "      <td>5</td>\n",
              "      <td>4</td>\n",
              "    </tr>\n",
              "    <tr>\n",
              "      <th>...</th>\n",
              "      <td>...</td>\n",
              "      <td>...</td>\n",
              "      <td>...</td>\n",
              "      <td>...</td>\n",
              "    </tr>\n",
              "    <tr>\n",
              "      <th>0</th>\n",
              "      <td>6039</td>\n",
              "      <td>2297</td>\n",
              "      <td>5</td>\n",
              "      <td>175</td>\n",
              "    </tr>\n",
              "    <tr>\n",
              "      <th>1</th>\n",
              "      <td>6039</td>\n",
              "      <td>2434</td>\n",
              "      <td>5</td>\n",
              "      <td>124</td>\n",
              "    </tr>\n",
              "    <tr>\n",
              "      <th>2</th>\n",
              "      <td>6039</td>\n",
              "      <td>2716</td>\n",
              "      <td>5</td>\n",
              "      <td>64</td>\n",
              "    </tr>\n",
              "    <tr>\n",
              "      <th>3</th>\n",
              "      <td>6039</td>\n",
              "      <td>2102</td>\n",
              "      <td>5</td>\n",
              "      <td>26</td>\n",
              "    </tr>\n",
              "    <tr>\n",
              "      <th>4</th>\n",
              "      <td>6039</td>\n",
              "      <td>2000</td>\n",
              "      <td>5</td>\n",
              "      <td>40</td>\n",
              "    </tr>\n",
              "  </tbody>\n",
              "</table>\n",
              "<p>836483 rows × 4 columns</p>\n",
              "</div>\n",
              "      <button class=\"colab-df-convert\" onclick=\"convertToInteractive('df-befb0b76-e85c-4e04-949d-03ee465ebecb')\"\n",
              "              title=\"Convert this dataframe to an interactive table.\"\n",
              "              style=\"display:none;\">\n",
              "        \n",
              "  <svg xmlns=\"http://www.w3.org/2000/svg\" height=\"24px\"viewBox=\"0 0 24 24\"\n",
              "       width=\"24px\">\n",
              "    <path d=\"M0 0h24v24H0V0z\" fill=\"none\"/>\n",
              "    <path d=\"M18.56 5.44l.94 2.06.94-2.06 2.06-.94-2.06-.94-.94-2.06-.94 2.06-2.06.94zm-11 1L8.5 8.5l.94-2.06 2.06-.94-2.06-.94L8.5 2.5l-.94 2.06-2.06.94zm10 10l.94 2.06.94-2.06 2.06-.94-2.06-.94-.94-2.06-.94 2.06-2.06.94z\"/><path d=\"M17.41 7.96l-1.37-1.37c-.4-.4-.92-.59-1.43-.59-.52 0-1.04.2-1.43.59L10.3 9.45l-7.72 7.72c-.78.78-.78 2.05 0 2.83L4 21.41c.39.39.9.59 1.41.59.51 0 1.02-.2 1.41-.59l7.78-7.78 2.81-2.81c.8-.78.8-2.07 0-2.86zM5.41 20L4 18.59l7.72-7.72 1.47 1.35L5.41 20z\"/>\n",
              "  </svg>\n",
              "      </button>\n",
              "      \n",
              "  <style>\n",
              "    .colab-df-container {\n",
              "      display:flex;\n",
              "      flex-wrap:wrap;\n",
              "      gap: 12px;\n",
              "    }\n",
              "\n",
              "    .colab-df-convert {\n",
              "      background-color: #E8F0FE;\n",
              "      border: none;\n",
              "      border-radius: 50%;\n",
              "      cursor: pointer;\n",
              "      display: none;\n",
              "      fill: #1967D2;\n",
              "      height: 32px;\n",
              "      padding: 0 0 0 0;\n",
              "      width: 32px;\n",
              "    }\n",
              "\n",
              "    .colab-df-convert:hover {\n",
              "      background-color: #E2EBFA;\n",
              "      box-shadow: 0px 1px 2px rgba(60, 64, 67, 0.3), 0px 1px 3px 1px rgba(60, 64, 67, 0.15);\n",
              "      fill: #174EA6;\n",
              "    }\n",
              "\n",
              "    [theme=dark] .colab-df-convert {\n",
              "      background-color: #3B4455;\n",
              "      fill: #D2E3FC;\n",
              "    }\n",
              "\n",
              "    [theme=dark] .colab-df-convert:hover {\n",
              "      background-color: #434B5C;\n",
              "      box-shadow: 0px 1px 3px 1px rgba(0, 0, 0, 0.15);\n",
              "      filter: drop-shadow(0px 1px 2px rgba(0, 0, 0, 0.3));\n",
              "      fill: #FFFFFF;\n",
              "    }\n",
              "  </style>\n",
              "\n",
              "      <script>\n",
              "        const buttonEl =\n",
              "          document.querySelector('#df-befb0b76-e85c-4e04-949d-03ee465ebecb button.colab-df-convert');\n",
              "        buttonEl.style.display =\n",
              "          google.colab.kernel.accessAllowed ? 'block' : 'none';\n",
              "\n",
              "        async function convertToInteractive(key) {\n",
              "          const element = document.querySelector('#df-befb0b76-e85c-4e04-949d-03ee465ebecb');\n",
              "          const dataTable =\n",
              "            await google.colab.kernel.invokeFunction('convertToInteractive',\n",
              "                                                     [key], {});\n",
              "          if (!dataTable) return;\n",
              "\n",
              "          const docLinkHtml = 'Like what you see? Visit the ' +\n",
              "            '<a target=\"_blank\" href=https://colab.research.google.com/notebooks/data_table.ipynb>data table notebook</a>'\n",
              "            + ' to learn more about interactive tables.';\n",
              "          element.innerHTML = '';\n",
              "          dataTable['output_type'] = 'display_data';\n",
              "          await google.colab.output.renderOutput(dataTable, element);\n",
              "          const docLink = document.createElement('div');\n",
              "          docLink.innerHTML = docLinkHtml;\n",
              "          element.appendChild(docLink);\n",
              "        }\n",
              "      </script>\n",
              "    </div>\n",
              "  </div>\n",
              "  "
            ]
          },
          "metadata": {},
          "execution_count": 26
        }
      ]
    },
    {
      "cell_type": "markdown",
      "source": [
        "<br>\n",
        "\n",
        "### 4) CSR matrix를 직접 만들어 봅시다."
      ],
      "metadata": {
        "id": "YoQu5DViDRhY"
      }
    },
    {
      "cell_type": "code",
      "source": [
        "# 실습 위에 설명보고 이해해서 만들어보기\n",
        "from scipy.sparse import csr_matrix\n",
        "\n",
        "num_user = ratings2['user_id'].nunique()\n",
        "num_movie = ratings2['title'].nunique()\n",
        "\n",
        "csr_data = csr_matrix((ratings2.counts, (ratings2.user_id, ratings2.title)), shape= (num_user, num_movie))\n",
        "csr_data"
      ],
      "metadata": {
        "colab": {
          "base_uri": "https://localhost:8080/"
        },
        "id": "AVXgfJFEux0J",
        "outputId": "9e65db3e-7459-4915-ea16-12ca9454e046"
      },
      "execution_count": null,
      "outputs": [
        {
          "output_type": "execute_result",
          "data": {
            "text/plain": [
              "<6040x3628 sparse matrix of type '<class 'numpy.longlong'>'\n",
              "\twith 836483 stored elements in Compressed Sparse Row format>"
            ]
          },
          "metadata": {},
          "execution_count": 27
        }
      ]
    },
    {
      "cell_type": "markdown",
      "source": [
        "<br>\n",
        "\n",
        "### 5) als_model = AlternatingLeastSquares 모델을 직접 구성하여 훈련시켜 봅시다."
      ],
      "metadata": {
        "id": "43RSGTJ85QQF"
      }
    },
    {
      "cell_type": "code",
      "source": [
        "from implicit.als import AlternatingLeastSquares\n",
        "import os\n",
        "import numpy as np\n",
        "\n",
        "os.environ['OPENBLAS_NUM_THREADS']='1'\n",
        "os.environ['KMP_DUPLICATE_LIB_OK']='True'\n",
        "os.environ['MKL_NUM_THREADS']='1'"
      ],
      "metadata": {
        "id": "vv2nsJiKuydS"
      },
      "execution_count": null,
      "outputs": []
    },
    {
      "cell_type": "code",
      "source": [
        "# Implicit AlternatingLeastSquares 모델의 선언\n",
        "als_model = AlternatingLeastSquares(factors=100, regularization=0.01, use_gpu=False, iterations=25, dtype=np.float32)"
      ],
      "metadata": {
        "id": "EV8G-tUbu0Tb"
      },
      "execution_count": null,
      "outputs": []
    },
    {
      "cell_type": "code",
      "source": [
        "# als 모델은 input으로 (item X user 꼴의 matrix를 받기 때문에 Transpose 해준다.)\n",
        "#csr_data_transpose = csr_data.T\n",
        "csr_data_transpose = csr_data"
      ],
      "metadata": {
        "id": "b1Mji_oHu33V"
      },
      "execution_count": null,
      "outputs": []
    },
    {
      "cell_type": "code",
      "source": [
        "# 모델 훈련\n",
        "als_model.fit(csr_data_transpose)"
      ],
      "metadata": {
        "colab": {
          "base_uri": "https://localhost:8080/",
          "height": 49,
          "referenced_widgets": [
            "e049f4ef655247b1aafd83c8b321723a",
            "ae7ad5e53bc844b481ca9689718bec7d",
            "2e82a7c139584b34b91ecac700c15a58",
            "bc5d49def59d40e280396d8cd9e317b7",
            "3b9cdc89370144d9ba6313e52b4a96ba",
            "365ab17f622a4c3ca24b70ef015282f3",
            "1a685f405f0c4cda90f45c72bc48ab2d",
            "9024d57c4c1d45b79036d4d3a2727909",
            "a4d5add2c62e41ecb01debf3183bf384",
            "e15ce4d0651644d0bf646f499b55de75",
            "d8d88d5c1a564efd88ae50523d9ffdf2"
          ]
        },
        "id": "5rTKtS33u6ge",
        "outputId": "21b76416-d200-4784-8672-114f9743ff82"
      },
      "execution_count": null,
      "outputs": [
        {
          "output_type": "display_data",
          "data": {
            "text/plain": [
              "  0%|          | 0/25 [00:00<?, ?it/s]"
            ],
            "application/vnd.jupyter.widget-view+json": {
              "version_major": 2,
              "version_minor": 0,
              "model_id": "e049f4ef655247b1aafd83c8b321723a"
            }
          },
          "metadata": {}
        }
      ]
    },
    {
      "cell_type": "markdown",
      "source": [
        "<br>\n",
        "\n",
        "### 6) 내가 선호하는 5가지 영화 중 하나와 그 외의 영화 하나를 골라 훈련된 모델이 예측한 나의 선호도를 파악해 보세요."
      ],
      "metadata": {
        "id": "pLq-Vpc95Qxh"
      }
    },
    {
      "cell_type": "code",
      "source": [
        "buyel, Matrix = user_to_idx['buyel'], movie_to_idx['Matrix, The (1999)']\n",
        "buyel_vector, Matrix_vector = als_model.user_factorsbuyel], als_model.item_factors[Matrix]"
      ],
      "metadata": {
        "id": "1o9NLgeeu79C"
      },
      "execution_count": null,
      "outputs": []
    },
    {
      "cell_type": "code",
      "source": [
        "buyel_vector"
      ],
      "metadata": {
        "colab": {
          "base_uri": "https://localhost:8080/"
        },
        "id": "e27DvkRHu76o",
        "outputId": "4732b82b-492d-4405-e2f8-d2e3d79798bd"
      },
      "execution_count": null,
      "outputs": [
        {
          "output_type": "execute_result",
          "data": {
            "text/plain": [
              "array([-7.53163338e-01,  1.13992326e-01, -1.14833834e-02,  5.13385646e-02,\n",
              "        7.28359759e-01, -2.99719483e-01, -3.55087556e-02,  3.49307537e-01,\n",
              "        6.62303329e-01,  5.29432356e-01,  3.62202078e-02, -5.80792665e-01,\n",
              "       -1.18047982e-01,  4.82324421e-01, -1.34663749e+00,  1.11428046e+00,\n",
              "       -5.46255708e-02, -2.85410583e-01,  2.43565246e-01, -4.46852058e-01,\n",
              "        8.80008280e-01, -7.38415897e-01, -1.88611537e-01,  5.64157188e-01,\n",
              "       -1.84189186e-01,  3.40493649e-01,  6.43773735e-01, -2.94152826e-01,\n",
              "        1.98749006e-01, -1.37997925e-01,  4.73932564e-01, -1.43922970e-01,\n",
              "        4.79624867e-01,  1.71484053e-01, -4.75226268e-02, -3.41632545e-01,\n",
              "       -1.51106879e-01, -8.88972133e-02,  6.68643057e-01,  6.80411384e-02,\n",
              "        2.19610348e-01,  8.65211785e-02,  2.39156841e-04, -7.00243115e-01,\n",
              "        6.49182618e-01,  8.31946254e-01, -3.64707202e-01, -8.71338844e-02,\n",
              "       -5.78571856e-01,  2.86633551e-01,  2.74649620e-01, -2.02073693e-01,\n",
              "        8.92164052e-01, -3.14810216e-01, -5.06663978e-01, -9.23034906e-01,\n",
              "       -7.29955554e-01, -1.20350167e-01, -3.89812887e-01,  2.08468795e-01,\n",
              "        1.15452878e-01,  4.31755364e-01, -4.76914346e-01, -2.40083009e-01,\n",
              "       -1.07028358e-01,  2.48082325e-01,  1.76679850e-01,  4.41379771e-02,\n",
              "       -3.25390369e-01, -2.32553512e-01, -2.89557964e-01,  3.24253887e-01,\n",
              "        1.57355871e-02,  4.02179211e-01, -9.68320072e-02, -1.63571551e-01,\n",
              "        3.07186574e-01, -2.89661046e-02, -5.33370912e-01, -5.94979167e-01,\n",
              "       -2.30318546e-01, -3.06440890e-01, -4.48395878e-01,  5.95894992e-01,\n",
              "        3.69539022e-01, -8.04567695e-01,  2.34704062e-01, -1.24602228e-01,\n",
              "        2.26110369e-01,  2.84440190e-01,  8.26092958e-01, -1.32108629e-01,\n",
              "        3.56437713e-01, -7.80283868e-01,  3.17322880e-01,  6.19054198e-01,\n",
              "        1.54761598e-01, -8.50196600e-01,  1.14355373e+00,  2.58637127e-02],\n",
              "      dtype=float32)"
            ]
          },
          "metadata": {},
          "execution_count": 33
        }
      ]
    },
    {
      "cell_type": "code",
      "source": [
        "Matrix_vector"
      ],
      "metadata": {
        "colab": {
          "base_uri": "https://localhost:8080/"
        },
        "id": "Hzt_A904u74f",
        "outputId": "8182d183-7fbd-458b-c624-4e675e6c544a"
      },
      "execution_count": null,
      "outputs": [
        {
          "output_type": "execute_result",
          "data": {
            "text/plain": [
              "array([-0.01066333,  0.00472578,  0.00384912,  0.00248695,  0.03168683,\n",
              "        0.02153509,  0.02414745,  0.03188241,  0.03334448,  0.02321646,\n",
              "       -0.00242877, -0.02299661,  0.0183045 ,  0.03212208, -0.02829956,\n",
              "        0.00365882, -0.00102274, -0.00970952,  0.004776  ,  0.00183218,\n",
              "        0.0403115 , -0.02089067,  0.01530248,  0.01690111,  0.01301125,\n",
              "        0.00410482,  0.02754636,  0.01953262,  0.02173669,  0.01561468,\n",
              "        0.02619692,  0.01600741,  0.03891899,  0.01027006, -0.02175556,\n",
              "        0.02084035, -0.00055692, -0.02506704,  0.00289898, -0.00150306,\n",
              "        0.0115023 ,  0.02448574, -0.01668894, -0.02267407,  0.03224552,\n",
              "        0.00503472, -0.0084677 ,  0.01429117, -0.02068722,  0.01284038,\n",
              "        0.00920922, -0.01429983,  0.03295572, -0.02534479, -0.01766404,\n",
              "       -0.01001931, -0.0134629 , -0.00150519, -0.01422342,  0.00606608,\n",
              "        0.00314223,  0.02383385, -0.00205521,  0.02930146, -0.02464189,\n",
              "        0.01791523,  0.00040434, -0.007031  ,  0.01967832, -0.01200844,\n",
              "       -0.0061522 ,  0.01902573,  0.0030208 , -0.00908952,  0.01312556,\n",
              "       -0.0350147 ,  0.01916117, -0.00783212, -0.01278638, -0.00684544,\n",
              "       -0.0384548 ,  0.00119195,  0.00780318,  0.015905  ,  0.02380971,\n",
              "        0.00289934,  0.01224752, -0.00645258,  0.02199536,  0.02164767,\n",
              "        0.01602816,  0.02784635,  0.01760029, -0.02194765, -0.01287427,\n",
              "        0.0252117 ,  0.01528242, -0.02584342,  0.04587919,  0.04298016],\n",
              "      dtype=float32)"
            ]
          },
          "metadata": {},
          "execution_count": 34
        }
      ]
    },
    {
      "cell_type": "code",
      "source": [
        "# zimin과 black_eyed_peas를 내적하는 코드\n",
        "np.dot(buyel_vector, Matrix_vector)"
      ],
      "metadata": {
        "colab": {
          "base_uri": "https://localhost:8080/"
        },
        "id": "MyBFo7Q_u72W",
        "outputId": "e9c23b93-3caa-4721-cb62-cabaceceddf8"
      },
      "execution_count": null,
      "outputs": [
        {
          "output_type": "execute_result",
          "data": {
            "text/plain": [
              "0.5739234"
            ]
          },
          "metadata": {},
          "execution_count": 35
        }
      ]
    },
    {
      "cell_type": "code",
      "source": [
        "Braveheart = movie_to_idx['Braveheart (1995)']\n",
        "Braveheart_vector = als_model.item_factors[Braveheart]\n",
        "np.dot(buyel_vector, Braveheart_vector)"
      ],
      "metadata": {
        "colab": {
          "base_uri": "https://localhost:8080/"
        },
        "id": "pJG3HKWOu70G",
        "outputId": "128d63f4-2d91-4560-afd0-db8ca3983c52"
      },
      "execution_count": null,
      "outputs": [
        {
          "output_type": "execute_result",
          "data": {
            "text/plain": [
              "0.23863949"
            ]
          },
          "metadata": {},
          "execution_count": 36
        }
      ]
    },
    {
      "cell_type": "code",
      "source": [
        "print (movies.loc[movies['title'] == 'Braveheart (1995)'])"
      ],
      "metadata": {
        "colab": {
          "base_uri": "https://localhost:8080/"
        },
        "id": "UPFX5rNxvBOi",
        "outputId": "2a0fae1d-2562-42fa-882c-6be36925f0d6"
      },
      "execution_count": null,
      "outputs": [
        {
          "output_type": "stream",
          "name": "stdout",
          "text": [
            "     movie_id              title             genre\n",
            "108       110  Braveheart (1995)  Action|Drama|War\n"
          ]
        }
      ]
    },
    {
      "cell_type": "code",
      "execution_count": null,
      "metadata": {
        "id": "1cd17121",
        "outputId": "528b2205-353b-43ab-f1c0-ce32a51da582"
      },
      "outputs": [
        {
          "data": {
            "text/plain": [
              "[(124, 1.0),\n",
              " (92, 0.77656054),\n",
              " (62, 0.67102724),\n",
              " (200, 0.5675946),\n",
              " (141, 0.54841626),\n",
              " (145, 0.5481634),\n",
              " (107, 0.51591516),\n",
              " (375, 0.48792705),\n",
              " (175, 0.45036307),\n",
              " (317, 0.42505172),\n",
              " (75, 0.4222443),\n",
              " (44, 0.39126346),\n",
              " (117, 0.36725572),\n",
              " (193, 0.3633525),\n",
              " (479, 0.34451026)]"
            ]
          },
          "execution_count": 29,
          "metadata": {},
          "output_type": "execute_result"
        }
      ],
      "source": [
        "#AlternatingLeastSquares 클래스 \n",
        "#similar_items 메서드를 통하여 비슷한 영화 서치\n",
        "favorite_movie = 'Matrix, The (1999)'\n",
        "movie_id = movie_to_idx[favorite_movie]\n",
        "similar_movie = als_model.similar_items(movie_id, N=15)\n",
        "similar_movie"
      ]
    },
    {
      "cell_type": "code",
      "execution_count": null,
      "metadata": {
        "id": "e6f84c5b",
        "outputId": "f5ceec29-3a6e-4542-8abc-c0214bdbfe21"
      },
      "outputs": [
        {
          "data": {
            "text/plain": [
              "['Matrix, The (1999)',\n",
              " 'Terminator 2: Judgment Day (1991)',\n",
              " 'Total Recall (1990)',\n",
              " 'Terminator, The (1984)',\n",
              " 'Fugitive, The (1993)',\n",
              " 'Fifth Element, The (1997)',\n",
              " 'Jurassic Park (1993)',\n",
              " 'Face/Off (1997)',\n",
              " 'Men in Black (1997)',\n",
              " 'Twelve Monkeys (1995)',\n",
              " 'Hunt for Red October, The (1990)',\n",
              " 'Star Wars: Episode IV - A New Hope (1977)',\n",
              " 'Star Wars: Episode V - The Empire Strikes Back (1980)',\n",
              " 'Alien (1979)',\n",
              " 'Contact (1997)']"
            ]
          },
          "execution_count": 30,
          "metadata": {},
          "output_type": "execute_result"
        }
      ],
      "source": [
        " #artist_to_idx 를 뒤집어, index로부터 artist 이름을 얻는 dict를 생성\n",
        "idx_to_movie = {v:k for k,v in movie_to_idx.items()}\n",
        "[idx_to_movie[i[0]] for i in similar_movie]"
      ]
    },
    {
      "cell_type": "markdown",
      "source": [
        "<br>\n",
        "\n",
        "### 7) 내가 좋아하는 영화와 비슷한 영화를 추천받아 봅시다."
      ],
      "metadata": {
        "id": "vOrix6Cu5Yjh"
      }
    },
    {
      "cell_type": "code",
      "source": [
        "def get_similar_movie(movie_name: str):\n",
        "    movie_id = movie_to_idx[movie_name]\n",
        "    similar_movie = als_model.similar_items(movie_id)\n",
        "    similar_movie = [idx_to_movie[i[0]] for i in similar_movie]\n",
        "    return similar_movie"
      ],
      "metadata": {
        "id": "HqlN5fhgvBIR"
      },
      "execution_count": null,
      "outputs": []
    },
    {
      "cell_type": "code",
      "execution_count": null,
      "metadata": {
        "id": "eb5f84ba",
        "outputId": "f6a9ba36-9613-4b7c-e085-0a99298b7e6e"
      },
      "outputs": [
        {
          "data": {
            "text/plain": [
              "['Matrix, The (1999)',\n",
              " 'Terminator 2: Judgment Day (1991)',\n",
              " 'Total Recall (1990)',\n",
              " 'Terminator, The (1984)',\n",
              " 'Fugitive, The (1993)',\n",
              " 'Fifth Element, The (1997)',\n",
              " 'Jurassic Park (1993)',\n",
              " 'Face/Off (1997)',\n",
              " 'Men in Black (1997)',\n",
              " 'Twelve Monkeys (1995)']"
            ]
          },
          "execution_count": 32,
          "metadata": {},
          "output_type": "execute_result"
        }
      ],
      "source": [
        "get_similar_movie('Matrix, The (1999)')"
      ]
    },
    {
      "cell_type": "code",
      "execution_count": null,
      "metadata": {
        "id": "55b69a7f",
        "outputId": "e737d59c-7f8f-4732-ba49-78ede335fefd"
      },
      "outputs": [
        {
          "data": {
            "text/plain": [
              "[(117, 0.611336),\n",
              " (44, 0.57017756),\n",
              " (92, 0.5324728),\n",
              " (60, 0.51625264),\n",
              " (107, 0.488379),\n",
              " (22, 0.42072985),\n",
              " (50, 0.37725553),\n",
              " (160, 0.31556457),\n",
              " (4, 0.31548274),\n",
              " (322, 0.3029769),\n",
              " (62, 0.28613216),\n",
              " (670, 0.27534655),\n",
              " (87, 0.27498633),\n",
              " (99, 0.26587522),\n",
              " (200, 0.26205027),\n",
              " (5, 0.25703767),\n",
              " (317, 0.25694093),\n",
              " (120, 0.25455558),\n",
              " (110, 0.24128345),\n",
              " (141, 0.23880862)]"
            ]
          },
          "execution_count": 33,
          "metadata": {},
          "output_type": "execute_result"
        }
      ],
      "source": [
        "user = user_to_idx['buyel']\n",
        "# recommend에서는 user*item CSR Matrix를 받습니다.\n",
        "movie_recommended = als_model.recommend(user, csr_data, N=20, filter_already_liked_items=True)\n",
        "movie_recommended"
      ]
    },
    {
      "cell_type": "code",
      "execution_count": null,
      "metadata": {
        "id": "62a15b30",
        "outputId": "0c54f39a-9e05-43a8-d3a4-b1964e730a12"
      },
      "outputs": [
        {
          "data": {
            "text/plain": [
              "['Star Wars: Episode V - The Empire Strikes Back (1980)',\n",
              " 'Star Wars: Episode IV - A New Hope (1977)',\n",
              " 'Terminator 2: Judgment Day (1991)',\n",
              " 'Star Wars: Episode I - The Phantom Menace (1999)',\n",
              " 'Jurassic Park (1993)',\n",
              " 'Back to the Future (1985)',\n",
              " 'Toy Story 2 (1999)',\n",
              " 'Forrest Gump (1994)',\n",
              " \"Bug's Life, A (1998)\",\n",
              " 'Babe (1995)',\n",
              " 'Total Recall (1990)',\n",
              " 'Galaxy Quest (1999)',\n",
              " 'Braveheart (1995)',\n",
              " 'American Beauty (1999)',\n",
              " 'Terminator, The (1984)',\n",
              " 'Princess Bride, The (1987)',\n",
              " 'Twelve Monkeys (1995)',\n",
              " 'Raiders of the Lost Ark (1981)',\n",
              " 'Groundhog Day (1993)',\n",
              " 'Fugitive, The (1993)']"
            ]
          },
          "execution_count": 34,
          "metadata": {},
          "output_type": "execute_result"
        }
      ],
      "source": [
        "[idx_to_movie[i[0]] for i in movie_recommended]"
      ]
    },
    {
      "cell_type": "code",
      "execution_count": null,
      "metadata": {
        "id": "1769f48b"
      },
      "outputs": [],
      "source": [
        "# 추천에 기여한 정도\n",
        "Xman = movie_to_idx['X-Men (2000)']\n",
        "explain = als_model.explain(user, csr_data, itemid=Xman)"
      ]
    },
    {
      "cell_type": "code",
      "execution_count": null,
      "metadata": {
        "id": "cf12e476",
        "outputId": "42275741-46f4-4515-c88a-6e4bcc5602a6"
      },
      "outputs": [
        {
          "data": {
            "text/plain": [
              "[('Matrix, The (1999)', 0.1123100775760715),\n",
              " ('Star Wars: Episode VI - Return of the Jedi (1983)', 0.06607174087700818),\n",
              " ('Men in Black (1997)', 0.04374438838721238),\n",
              " ('Toy Story (1995)', -0.005706328812545284),\n",
              " ('E.T. the Extra-Terrestrial (1982)', -0.02411263224834979)]"
            ]
          },
          "execution_count": 36,
          "metadata": {},
          "output_type": "execute_result"
        }
      ],
      "source": [
        "[(idx_to_movie[i[0]], i[1]) for i in explain[1]]"
      ]
    },
    {
      "cell_type": "markdown",
      "source": [
        "<br>\n",
        "\n",
        "## ✔️회고 및 결론\n",
        "---"
      ],
      "metadata": {
        "id": "PPyKwDJpEUGD"
      }
    },
    {
      "cell_type": "markdown",
      "source": [
        "#### ▶️ 이번 프로젝트에서 어려웠던 점\n",
        "\n",
        "![20220626003535](https://user-images.githubusercontent.com/100528803/175784922-448c4b34-1470-4b38-a1d1-b3f0b1f3fa5b.png)\n",
        "\n",
        "LMS와 상이했던 에러들... 정말 LMS와 colab에서 무슨 환경에 어떻게 적용해야하는지 모호했던 에러들을 하나씩 진행한다는게 쉽지 않았다. 오죽하면 LMS에서 다시 돌아가서 돌려보기까지 했을까 싶을 정도로 여기서 제일 시행착오를 많이 겪었다.\n",
        "\n",
        "<br>\n",
        "\n",
        "#### ▶️ 프로젝트를 진행하면서 알아낸 점 혹은 아직 모호한 점\n",
        "\n",
        "유저에 대한 선호도를 벡터로 직접 확인할 수 있다는 점이 신기하면서도 묘했는데, 앞서 임베딩에서의 벡터를 계산하면서 단어들끼리의 상관관계를 숫자로 표현할 수 있다는 사실이랑 매칭이 됐다. 어떻게 보면 수치화 할 수 없다고 생각했던 사람의 감성에 관련된 부분들을 실제 숫자로 치환할 수 있다는 점은 기묘하면서도 자꾸만 이게 정확한 수치일지 고민하게 만든다.\n",
        "\n",
        "<br>\n"
      ],
      "metadata": {
        "id": "qW8CrbzLY_wt"
      }
    },
    {
      "cell_type": "markdown",
      "source": [
        "#### ▶️ 루브릭 평가 지표를 맞추기 위해 시도한 것들\n",
        "\n",
        "이번 프로젝트에서 루브릭의 기준은 아래와 같았다."
      ],
      "metadata": {
        "id": "U4xO9O9AEXrN"
      }
    },
    {
      "cell_type": "markdown",
      "source": [
        "|       |                                    **< 평가문항 >**                                   |                                                              **< 상세기준 >**                                                             |\n",
        "|-------|:---------------------------------------------------------------------------------|:-------------------------------------------------------------------------------------------------------------------------------------|\n",
        "| **1** | CSR matrix가 정상적으로 만들어졌다.                                 | 사용자와 아이템 개수를 바탕으로 정확한 사이즈로 만들었다.<br>                                                        |\n",
        "| **2** | MF 모델이 정상적으로 훈련되어 그럴듯한 추천이 이루어졌다. | 사용자와 아이템 벡터 내적수치가 의미있게 형성되었다.                               |\n",
        "| **3** | 비슷한 영화 찾기와 유저에게 추천하기의 과정이 정상적으로 진행되었다.                                    | MF모델이 예측한 유저 선호도 및 아이템간 유사도, 기여도가 의미있게 측정되었다. |"
      ],
      "metadata": {
        "id": "hTkfLutpY67j"
      }
    },
    {
      "cell_type": "markdown",
      "source": [
        "![20220626025116](https://user-images.githubusercontent.com/100528803/175785036-e7d2890c-1510-4b70-9997-3febfd4fcef5.png)\n",
        "\n",
        "일단 선호하는 영화들을 먼저 뽑아낸 뒤에,\n",
        "\n",
        "![20220626025141](https://user-images.githubusercontent.com/100528803/175785037-8bd37c88-e696-4010-9198-e0b699a7db20.png)\n",
        "\n",
        "비슷한 영화들을 꼽아내고,\n",
        "\n",
        "![20220626025157](https://user-images.githubusercontent.com/100528803/175785038-1da82b4e-1daf-4c37-9032-e3f2b1dcd3a1.png)\n",
        "\n",
        "그로 인해 추천시스템을 통해서 엇비슷한 영화들을 뽑아낸다는 사실이 신기했다. 특히 스타워즈의 경우 가장 연관이 깊은 시리즈 5, 3, 1을 각기 뽑아냄과 동시에 back to the Future같은 SF 관련 영화들을 뽑아낸다는 점에서 어느정도 연관성이 두드러져 보였고, Toy Story의 경우 2버전을 뽑아내고, babe나 bug's life같은 3D 애니들까지 두루 뽑아냈다는 점에서 유사성을 벡터로 구현해냈다는걸 확인할 수 있었다. 결론적으로 추천시스템이 제대로 작용했다는게 신기하다.\n",
        "\n",
        "<br>\n",
        "\n",
        "#### ▶️ 자기 다짐\n",
        "\n",
        "사실 내가 정말 찾고 싶었던 영화들은 리스트에 없었기 때문에 대체적으로 다른 기수분들이 썼던 데이터 중에서 인기있는 시리즈들 위주로 가져다가 많이 썼기 때문에 진짜 내 취향을 제대로 찾지 않았다는 점은 조금 아쉽다(실제로 내가 좋아하는 영화들은 이 리스트에 원래 없었다.....)\n",
        "\n",
        "<br>"
      ],
      "metadata": {
        "id": "WvWXBqdMwuHI"
      }
    },
    {
      "cell_type": "markdown",
      "source": [
        "## ✔️Reference(참고자료)\n",
        "---\n",
        "* https://www.kaggle.com/code/alsojmc/movie-recommender-systems/notebook\n",
        "* https://velog.io/@skarb4788/%EB%94%A5%EB%9F%AC%EB%8B%9D-%EC%98%81%ED%99%94-%EC%B6%94%EC%B2%9C-%EC%8B%9C%EC%8A%A4%ED%85%9C\n",
        "* https://diane-space.tistory.com/90\n",
        "* https://ddongwon.tistory.com/115"
      ],
      "metadata": {
        "id": "9DGVhS4BEYHN"
      }
    }
  ]
}